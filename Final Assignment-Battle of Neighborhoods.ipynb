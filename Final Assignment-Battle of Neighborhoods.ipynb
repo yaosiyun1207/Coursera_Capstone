{
    "cells": [
        {
            "metadata": {
                "collapsed": true
            },
            "cell_type": "markdown",
            "source": "# Capstone Project - Battle of the Neighborhoods"
        },
        {
            "metadata": {},
            "cell_type": "markdown",
            "source": "## Problem and Background Discussion"
        },
        {
            "metadata": {},
            "cell_type": "markdown",
            "source": "For one city, it has a large area. Which area is more profitable to open a restaurant? Which area is more suitable to start your new business. You will feel worried about these questions when you are in a large city. I will use the former argument in the above query for this assignment and say that I have a client looking to open a restaurant in Detroit, Michigan and they want to know the best place for that. Let's presume this restaurant will be a restaurant that serves Greek food. Detroit has a wide variety of downtown restaurants and we'll do this analysis with the aid of Foursquare and their comprehensive location dataset about the city and its locations. Through opening this new Greek food restaurant, this will allow people to choose from a wider range while dining downtown, creating revenue for themselves, nearby locations, and the city as a whole."
        },
        {
            "metadata": {},
            "cell_type": "markdown",
            "source": "## Data Used"
        },
        {
            "metadata": {},
            "cell_type": "markdown",
            "source": "I will use the Foursquare API to request location data which I will use similarly to how I used it in the assignments in New York and Toronto. I'll start by specifying the initial location (Campus Martius) and setting our 800 m radius, and then exploring the neighborhood for restaurants similar. I am also going to want to look for a location that has a reasonable amount of foot traffic and is decently far enough away from other sestern restaurants so that the market is not over-saturated in one area. They will take the sporting arenas, casinos, and other entertainment venues into account as it will produce the most foot traffic. Main streets are suitable for passenger cars and foot traffic, but are likely to be more costly to rent out."
        },
        {
            "metadata": {},
            "cell_type": "markdown",
            "source": "url = 'https://api.foursquare.com/v2/venues/explore?&client_id={}&client_secret={}&v={}&ll={},{}&radius={}&limit={}'.format(CLIENT_ID, CLIENT_SECRET, VERSION, Campus_lat, Campus_lon, radius, LIMIT)'"
        },
        {
            "metadata": {},
            "cell_type": "code",
            "source": "import numpy as np # library to handle data in a vectorized manner\n\nimport pandas as pd # library for data analsysis\npd.set_option('display.max_columns', None)\npd.set_option('display.max_rows', None)\n\nimport json # library to handle JSON files\n\n#!conda install -c conda-forge geopy --yes # uncomment this line if you haven't completed the Foursquare API lab\nfrom geopy.geocoders import Nominatim # convert an address into latitude and longitude values\n\nimport requests # library to handle requests\nfrom pandas.io.json import json_normalize # tranform JSON file into a pandas dataframe\n\n# Matplotlib and associated plotting modules\nimport matplotlib.cm as cm\nimport matplotlib.colors as colors\n\n# import k-means from clustering stage\nfrom sklearn.cluster import KMeans\n\n!conda install -c conda-forge folium=0.5.0 --yes\nimport folium\n\nprint('Libraries imported.')",
            "execution_count": 58,
            "outputs": [
                {
                    "output_type": "stream",
                    "text": "Solving environment: done\n\n## Package Plan ##\n\n  environment location: /opt/conda/envs/Python36\n\n  added / updated specs: \n    - folium=0.5.0\n\n\nThe following packages will be downloaded:\n\n    package                    |            build\n    ---------------------------|-----------------\n    altair-4.0.1               |             py_0         575 KB  conda-forge\n    ca-certificates-2019.11.28 |       hecc5488_0         145 KB  conda-forge\n    certifi-2019.11.28         |           py36_0         149 KB  conda-forge\n    folium-0.5.0               |             py_0          45 KB  conda-forge\n    openssl-1.1.1d             |       h516909a_0         2.1 MB  conda-forge\n    branca-0.4.0               |             py_0          26 KB  conda-forge\n    vincent-0.4.4              |             py_1          28 KB  conda-forge\n    ------------------------------------------------------------\n                                           Total:         3.0 MB\n\nThe following NEW packages will be INSTALLED:\n\n    altair:          4.0.1-py_0        conda-forge\n    branca:          0.4.0-py_0        conda-forge\n    folium:          0.5.0-py_0        conda-forge\n    vincent:         0.4.4-py_1        conda-forge\n\nThe following packages will be UPDATED:\n\n    ca-certificates: 2019.11.27-0                  --> 2019.11.28-hecc5488_0 conda-forge\n    certifi:         2019.11.28-py36_0             --> 2019.11.28-py36_0     conda-forge\n\nThe following packages will be DOWNGRADED:\n\n    openssl:         1.1.1d-h7b6447c_3             --> 1.1.1d-h516909a_0     conda-forge\n\n\nDownloading and Extracting Packages\naltair-4.0.1         | 575 KB    | ##################################### | 100% \nca-certificates-2019 | 145 KB    | ##################################### | 100% \ncertifi-2019.11.28   | 149 KB    | ##################################### | 100% \nfolium-0.5.0         | 45 KB     | ##################################### | 100% \nopenssl-1.1.1d       | 2.1 MB    | ##################################### | 100% \nbranca-0.4.0         | 26 KB     | ##################################### | 100% \nvincent-0.4.4        | 28 KB     | ##################################### | 100% \nPreparing transaction: done\nVerifying transaction: done\nExecuting transaction: done\nLibraries imported.\n",
                    "name": "stdout"
                }
            ]
        },
        {
            "metadata": {},
            "cell_type": "code",
            "source": "address = 'Detroit, MI'\nCampus_lat = 42.3318\nCampus_lon = -83.0466\nradius = 800\nLIMIT = 500\n\nCLIENT_ID = 'OCSANRSKD4JUKC0SNU3OEVYHVDTTYZH0APEJ512LT2ORO5BG' # your Foursquare ID\nCLIENT_SECRET = 'HTWUBMYI1HGF3QLBWECH0MU4IXDC2PE5FEC50S0FPI0D0TRL' # your Foursquare Secret\nVERSION = '20180605' # Foursquare API version\n\nurl = 'https://api.foursquare.com/v2/venues/explore?&client_id={}&client_secret={}&v={}&ll={},{}&radius={}&limit={}'.format(\n  CLIENT_ID, \n  CLIENT_SECRET, \n  VERSION, \n  Campus_lat, \n  Campus_lon, \n  radius, \n  LIMIT)\n\nprint('URL created!')",
            "execution_count": null,
            "outputs": []
        },
        {
            "metadata": {},
            "cell_type": "markdown",
            "source": "## Results"
        },
        {
            "metadata": {},
            "cell_type": "code",
            "source": "results = requests.get(url).json()",
            "execution_count": 59,
            "outputs": []
        },
        {
            "metadata": {},
            "cell_type": "code",
            "source": "\n# function that extracts the category of the venue\ndef get_category_type(row):\n    try:\n        categories_list = row['categories']\n    except:\n        categories_list = row['venue.categories']\n        \n    if len(categories_list) == 0:\n        return None\n    else:\n        return categories_list[0]['name']",
            "execution_count": 60,
            "outputs": []
        },
        {
            "metadata": {},
            "cell_type": "markdown",
            "source": "## Areas from the JSON data from Foursquare"
        },
        {
            "metadata": {},
            "cell_type": "code",
            "source": "venues = results['response']['groups'][0]['items']\n    \nnearby_venues = json_normalize(venues) # flatten JSON\n\n# filter columns\nfiltered_columns = ['venue.name', 'venue.categories', 'venue.location.lat', 'venue.location.lng']\nnearby_venues =nearby_venues.loc[:, filtered_columns]\n\n# filter the category for each row\nnearby_venues['venue.categories'] = nearby_venues.apply(get_category_type, axis=1)\n\n# clean columns\nnearby_venues.columns = [col.split(\".\")[-1] for col in nearby_venues.columns]\n\nnearby_venues\n    \n\n\n",
            "execution_count": 61,
            "outputs": [
                {
                    "output_type": "execute_result",
                    "execution_count": 61,
                    "data": {
                        "text/plain": "                                            name               categories  \\\n0                                 Campus Martius                     Park   \n1                         Avalon Cafe and Bakery                     Caf\u00e9   \n2                                Texas de Brazil               Steakhouse   \n3                                     Dime Store      American Restaurant   \n4                                     Chase Bank                     Bank   \n5                         Lafayette Coney Island            Hot Dog Joint   \n6                                    Bon Bon Bon             Dessert Shop   \n7                                Grand Trunk Pub                      Pub   \n8                        Athens Souvlaki Detroit                    Diner   \n9                      Detroit Water Ice Factory           Ice Cream Shop   \n10                             Vault of Midnight               Comic Shop   \n11                                  Bad Luck Bar                Speakeasy   \n12                             Guardian Building                 Building   \n13                                      The Belt              Art Gallery   \n14                                          Parc      American Restaurant   \n15                          Dessert Oasis Coffee              Coffee Shop   \n16                        Roasting Plant Detroit              Coffee Shop   \n17                                   The Standby  New American Restaurant   \n18                                   Shake Shack             Burger Joint   \n19                                      7 Greens              Salad Place   \n20                                   Orchid Thai          Thai Restaurant   \n21              The Westin Book Cadillac Detroit                    Hotel   \n22                       Vicente's Cuban Cuisine         Cuban Restaurant   \n23                             London Chop House               Steakhouse   \n24                                 Shinola Hotel                    Hotel   \n25                               Cadillac Square                    Plaza   \n26                                  Capitol Park                     Park   \n27                            Maru Sushi & Grill      Japanese Restaurant   \n28                               The Hudson Cafe                     Caf\u00e9   \n29                                 Madcap Coffee              Coffee Shop   \n30                                   Evening Bar                      Bar   \n31                        Potbelly Sandwich Shop           Sandwich Place   \n32                            The Whiskey Parlor               Whisky Bar   \n33                              Lunchtime Global            Deli / Bodega   \n34                                         Roast               Steakhouse   \n35                                   Checker Bar                 Dive Bar   \n36  The Spirit of Detroit by Marshall Fredericks        Outdoor Sculpture   \n37                                      The Keep                Speakeasy   \n38                                       Queen's                      Bar   \n39                                        Eatori          Other Nightlife   \n40                                  Wright & Co.             Cocktail Bar   \n41                                    Green Room              Salad Place   \n42                                       Freshii               Restaurant   \n43                             Urban Bean Coffee              Coffee Shop   \n44                            Fort Street Galley                      Bar   \n45                         Central Kitchen + Bar      American Restaurant   \n46                             Sweetwater Tavern      American Restaurant   \n47                                    Go Sy Thai          Thai Restaurant   \n48                             Townhouse Detroit  New American Restaurant   \n49                      Detroit Foundation Hotel                    Hotel   \n50                      Cornerstone Barrel House               Whisky Bar   \n51                                    Hart Plaza                    Plaza   \n52                             House Of Pure Vin                   Lounge   \n53                                  Warby Parker             Optical Shop   \n54                             Chickpea in the D           Sandwich Place   \n55                    Jacoby's German Biergarten        German Restaurant   \n56                         American Coney Island            Hot Dog Joint   \n57                Which Wich Superior Sandwiches               Restaurant   \n58                                Cafe d'Mongo's                Jazz Club   \n59                              St Andrew's Hall             Concert Hall   \n60                                Prime + Proper               Steakhouse   \n61                            Carnival Fresh Mex       Mexican Restaurant   \n62                                   Caucus Club      American Restaurant   \n63        Monument to Joe Louis by Robert Graham        Outdoor Sculpture   \n64                                   La Lanterna       Italian Restaurant   \n65                                      Buhl Bar             Cocktail Bar   \n66                                   San Morello       Italian Restaurant   \n67                            The Apparatus Room               Restaurant   \n68                              Bangkok Crossing          Thai Restaurant   \n69              Ashe Supply Co. Caf\u00e9 & Roasterie              Coffee Shop   \n70                        Detroiter Bar/Malaka's                      Bar   \n71                             Punch Bowl Social             Cocktail Bar   \n72                           Detroit Opera House              Opera House   \n73                                  Go! Smoothie                Juice Bar   \n74                           Astoria Pastry Shop             Dessert Shop   \n75                                Blue Star Cafe            Deli / Bodega   \n76                                     Starbucks              Coffee Shop   \n77                                      The Skip             Cocktail Bar   \n78            Aloft Detroit at The David Whitney                    Hotel   \n79                                     Starbucks              Coffee Shop   \n80                                Greenwich Time                 Dive Bar   \n81                   Detroit Athletic Club (DAC)                      Gym   \n82                          Citizen Yoga Detroit              Yoga Studio   \n83                            Nike Factory Store      Sporting Goods Shop   \n84                                     Five Guys             Burger Joint   \n85                             Detroit RiverWalk               Waterfront   \n86                              The Monarch Club  New American Restaurant   \n87                              Boll Family YMCA     Gym / Fitness Center   \n88                         Cadillac Square Diner                    Diner   \n89                     PizzaPapalis of Greektown              Pizza Place   \n90                La Casa De La Habana Cigar Bar                   Lounge   \n91                          Detroit Beer Company                  Brewery   \n92                               Firebird Tavern  New American Restaurant   \n93                            The Old Shillelagh                      Pub   \n94                Fishbone's Rhythm Kitchen Cafe       Seafood Restaurant   \n95                              Downtown Louie's                   Lounge   \n96                           Basement Burger Bar             Burger Joint   \n97                                     Candy Bar                      Bar   \n98                               Pegasus Taverna         Greek Restaurant   \n99                          Detroit vs Everybody                 Boutique   \n\n          lat        lng  \n0   42.331575 -83.046598  \n1   42.332834 -83.047694  \n2   42.332293 -83.046711  \n3   42.331039 -83.047734  \n4   42.330676 -83.046648  \n5   42.331683 -83.048780  \n6   42.330548 -83.047914  \n7   42.330403 -83.045943  \n8   42.330360 -83.048183  \n9   42.332575 -83.047436  \n10  42.334135 -83.046621  \n11  42.332914 -83.049132  \n12  42.329497 -83.046083  \n13  42.334386 -83.046087  \n14  42.331564 -83.046700  \n15  42.332840 -83.049165  \n16  42.331354 -83.046049  \n17  42.334439 -83.046009  \n18  42.330955 -83.046371  \n19  42.334094 -83.046444  \n20  42.333579 -83.045220  \n21  42.331842 -83.050211  \n22  42.334436 -83.047193  \n23  42.329434 -83.047584  \n24  42.334168 -83.048365  \n25  42.331587 -83.045176  \n26  42.332824 -83.049518  \n27  42.330360 -83.048269  \n28  42.333516 -83.048370  \n29  42.334530 -83.048220  \n30  42.334454 -83.048172  \n31  42.331318 -83.047485  \n32  42.330433 -83.045942  \n33  42.330436 -83.045026  \n34  42.331966 -83.050985  \n35  42.331302 -83.044142  \n36  42.329278 -83.044815  \n37  42.331417 -83.043626  \n38  42.334413 -83.047730  \n39  42.332910 -83.049581  \n40  42.335000 -83.049230  \n41  42.329661 -83.047207  \n42  42.331569 -83.047713  \n43  42.333716 -83.049884  \n44  42.330242 -83.048439  \n45  42.331518 -83.045962  \n46  42.331861 -83.041839  \n47  42.332993 -83.049187  \n48  42.330305 -83.045361  \n49  42.328332 -83.048360  \n50  42.335009 -83.048948  \n51  42.328264 -83.044290  \n52  42.334555 -83.049293  \n53  42.334714 -83.049339  \n54  42.335073 -83.049052  \n55  42.332132 -83.042073  \n56  42.331656 -83.048473  \n57  42.330412 -83.047079  \n58  42.334306 -83.050007  \n59  42.332376 -83.041637  \n60  42.332697 -83.049151  \n61  42.330757 -83.047328  \n62  42.329436 -83.047551  \n63  42.328660 -83.044551  \n64  42.333013 -83.049096  \n65  42.329829 -83.046717  \n66  42.334145 -83.048628  \n67  42.328113 -83.048299  \n68  42.330509 -83.046118  \n69  42.336190 -83.049217  \n70  42.333148 -83.041488  \n71  42.335085 -83.046835  \n72  42.336457 -83.048710  \n73  42.334538 -83.050389  \n74  42.335239 -83.041820  \n75  42.328993 -83.048605  \n76  42.331337 -83.046753  \n77  42.334700 -83.046972  \n78  42.335805 -83.050508  \n79  42.331738 -83.050878  \n80  42.331346 -83.043785  \n81  42.337285 -83.047067  \n82  42.334088 -83.046520  \n83  42.333649 -83.048603  \n84  42.334933 -83.042586  \n85  42.326491 -83.044109  \n86  42.335455 -83.048829  \n87  42.335345 -83.047717  \n88  42.331562 -83.044349  \n89  42.335416 -83.041616  \n90  42.336714 -83.046211  \n91  42.336020 -83.048843  \n92  42.334701 -83.043345  \n93  42.334534 -83.043926  \n94  42.334376 -83.043068  \n95  42.334668 -83.050095  \n96  42.335658 -83.044508  \n97  42.335841 -83.048404  \n98  42.335227 -83.041650  \n99  42.334552 -83.043044  ",
                        "text/html": "<div>\n<style scoped>\n    .dataframe tbody tr th:only-of-type {\n        vertical-align: middle;\n    }\n\n    .dataframe tbody tr th {\n        vertical-align: top;\n    }\n\n    .dataframe thead th {\n        text-align: right;\n    }\n</style>\n<table border=\"1\" class=\"dataframe\">\n  <thead>\n    <tr style=\"text-align: right;\">\n      <th></th>\n      <th>name</th>\n      <th>categories</th>\n      <th>lat</th>\n      <th>lng</th>\n    </tr>\n  </thead>\n  <tbody>\n    <tr>\n      <th>0</th>\n      <td>Campus Martius</td>\n      <td>Park</td>\n      <td>42.331575</td>\n      <td>-83.046598</td>\n    </tr>\n    <tr>\n      <th>1</th>\n      <td>Avalon Cafe and Bakery</td>\n      <td>Caf\u00e9</td>\n      <td>42.332834</td>\n      <td>-83.047694</td>\n    </tr>\n    <tr>\n      <th>2</th>\n      <td>Texas de Brazil</td>\n      <td>Steakhouse</td>\n      <td>42.332293</td>\n      <td>-83.046711</td>\n    </tr>\n    <tr>\n      <th>3</th>\n      <td>Dime Store</td>\n      <td>American Restaurant</td>\n      <td>42.331039</td>\n      <td>-83.047734</td>\n    </tr>\n    <tr>\n      <th>4</th>\n      <td>Chase Bank</td>\n      <td>Bank</td>\n      <td>42.330676</td>\n      <td>-83.046648</td>\n    </tr>\n    <tr>\n      <th>5</th>\n      <td>Lafayette Coney Island</td>\n      <td>Hot Dog Joint</td>\n      <td>42.331683</td>\n      <td>-83.048780</td>\n    </tr>\n    <tr>\n      <th>6</th>\n      <td>Bon Bon Bon</td>\n      <td>Dessert Shop</td>\n      <td>42.330548</td>\n      <td>-83.047914</td>\n    </tr>\n    <tr>\n      <th>7</th>\n      <td>Grand Trunk Pub</td>\n      <td>Pub</td>\n      <td>42.330403</td>\n      <td>-83.045943</td>\n    </tr>\n    <tr>\n      <th>8</th>\n      <td>Athens Souvlaki Detroit</td>\n      <td>Diner</td>\n      <td>42.330360</td>\n      <td>-83.048183</td>\n    </tr>\n    <tr>\n      <th>9</th>\n      <td>Detroit Water Ice Factory</td>\n      <td>Ice Cream Shop</td>\n      <td>42.332575</td>\n      <td>-83.047436</td>\n    </tr>\n    <tr>\n      <th>10</th>\n      <td>Vault of Midnight</td>\n      <td>Comic Shop</td>\n      <td>42.334135</td>\n      <td>-83.046621</td>\n    </tr>\n    <tr>\n      <th>11</th>\n      <td>Bad Luck Bar</td>\n      <td>Speakeasy</td>\n      <td>42.332914</td>\n      <td>-83.049132</td>\n    </tr>\n    <tr>\n      <th>12</th>\n      <td>Guardian Building</td>\n      <td>Building</td>\n      <td>42.329497</td>\n      <td>-83.046083</td>\n    </tr>\n    <tr>\n      <th>13</th>\n      <td>The Belt</td>\n      <td>Art Gallery</td>\n      <td>42.334386</td>\n      <td>-83.046087</td>\n    </tr>\n    <tr>\n      <th>14</th>\n      <td>Parc</td>\n      <td>American Restaurant</td>\n      <td>42.331564</td>\n      <td>-83.046700</td>\n    </tr>\n    <tr>\n      <th>15</th>\n      <td>Dessert Oasis Coffee</td>\n      <td>Coffee Shop</td>\n      <td>42.332840</td>\n      <td>-83.049165</td>\n    </tr>\n    <tr>\n      <th>16</th>\n      <td>Roasting Plant Detroit</td>\n      <td>Coffee Shop</td>\n      <td>42.331354</td>\n      <td>-83.046049</td>\n    </tr>\n    <tr>\n      <th>17</th>\n      <td>The Standby</td>\n      <td>New American Restaurant</td>\n      <td>42.334439</td>\n      <td>-83.046009</td>\n    </tr>\n    <tr>\n      <th>18</th>\n      <td>Shake Shack</td>\n      <td>Burger Joint</td>\n      <td>42.330955</td>\n      <td>-83.046371</td>\n    </tr>\n    <tr>\n      <th>19</th>\n      <td>7 Greens</td>\n      <td>Salad Place</td>\n      <td>42.334094</td>\n      <td>-83.046444</td>\n    </tr>\n    <tr>\n      <th>20</th>\n      <td>Orchid Thai</td>\n      <td>Thai Restaurant</td>\n      <td>42.333579</td>\n      <td>-83.045220</td>\n    </tr>\n    <tr>\n      <th>21</th>\n      <td>The Westin Book Cadillac Detroit</td>\n      <td>Hotel</td>\n      <td>42.331842</td>\n      <td>-83.050211</td>\n    </tr>\n    <tr>\n      <th>22</th>\n      <td>Vicente's Cuban Cuisine</td>\n      <td>Cuban Restaurant</td>\n      <td>42.334436</td>\n      <td>-83.047193</td>\n    </tr>\n    <tr>\n      <th>23</th>\n      <td>London Chop House</td>\n      <td>Steakhouse</td>\n      <td>42.329434</td>\n      <td>-83.047584</td>\n    </tr>\n    <tr>\n      <th>24</th>\n      <td>Shinola Hotel</td>\n      <td>Hotel</td>\n      <td>42.334168</td>\n      <td>-83.048365</td>\n    </tr>\n    <tr>\n      <th>25</th>\n      <td>Cadillac Square</td>\n      <td>Plaza</td>\n      <td>42.331587</td>\n      <td>-83.045176</td>\n    </tr>\n    <tr>\n      <th>26</th>\n      <td>Capitol Park</td>\n      <td>Park</td>\n      <td>42.332824</td>\n      <td>-83.049518</td>\n    </tr>\n    <tr>\n      <th>27</th>\n      <td>Maru Sushi &amp; Grill</td>\n      <td>Japanese Restaurant</td>\n      <td>42.330360</td>\n      <td>-83.048269</td>\n    </tr>\n    <tr>\n      <th>28</th>\n      <td>The Hudson Cafe</td>\n      <td>Caf\u00e9</td>\n      <td>42.333516</td>\n      <td>-83.048370</td>\n    </tr>\n    <tr>\n      <th>29</th>\n      <td>Madcap Coffee</td>\n      <td>Coffee Shop</td>\n      <td>42.334530</td>\n      <td>-83.048220</td>\n    </tr>\n    <tr>\n      <th>30</th>\n      <td>Evening Bar</td>\n      <td>Bar</td>\n      <td>42.334454</td>\n      <td>-83.048172</td>\n    </tr>\n    <tr>\n      <th>31</th>\n      <td>Potbelly Sandwich Shop</td>\n      <td>Sandwich Place</td>\n      <td>42.331318</td>\n      <td>-83.047485</td>\n    </tr>\n    <tr>\n      <th>32</th>\n      <td>The Whiskey Parlor</td>\n      <td>Whisky Bar</td>\n      <td>42.330433</td>\n      <td>-83.045942</td>\n    </tr>\n    <tr>\n      <th>33</th>\n      <td>Lunchtime Global</td>\n      <td>Deli / Bodega</td>\n      <td>42.330436</td>\n      <td>-83.045026</td>\n    </tr>\n    <tr>\n      <th>34</th>\n      <td>Roast</td>\n      <td>Steakhouse</td>\n      <td>42.331966</td>\n      <td>-83.050985</td>\n    </tr>\n    <tr>\n      <th>35</th>\n      <td>Checker Bar</td>\n      <td>Dive Bar</td>\n      <td>42.331302</td>\n      <td>-83.044142</td>\n    </tr>\n    <tr>\n      <th>36</th>\n      <td>The Spirit of Detroit by Marshall Fredericks</td>\n      <td>Outdoor Sculpture</td>\n      <td>42.329278</td>\n      <td>-83.044815</td>\n    </tr>\n    <tr>\n      <th>37</th>\n      <td>The Keep</td>\n      <td>Speakeasy</td>\n      <td>42.331417</td>\n      <td>-83.043626</td>\n    </tr>\n    <tr>\n      <th>38</th>\n      <td>Queen's</td>\n      <td>Bar</td>\n      <td>42.334413</td>\n      <td>-83.047730</td>\n    </tr>\n    <tr>\n      <th>39</th>\n      <td>Eatori</td>\n      <td>Other Nightlife</td>\n      <td>42.332910</td>\n      <td>-83.049581</td>\n    </tr>\n    <tr>\n      <th>40</th>\n      <td>Wright &amp; Co.</td>\n      <td>Cocktail Bar</td>\n      <td>42.335000</td>\n      <td>-83.049230</td>\n    </tr>\n    <tr>\n      <th>41</th>\n      <td>Green Room</td>\n      <td>Salad Place</td>\n      <td>42.329661</td>\n      <td>-83.047207</td>\n    </tr>\n    <tr>\n      <th>42</th>\n      <td>Freshii</td>\n      <td>Restaurant</td>\n      <td>42.331569</td>\n      <td>-83.047713</td>\n    </tr>\n    <tr>\n      <th>43</th>\n      <td>Urban Bean Coffee</td>\n      <td>Coffee Shop</td>\n      <td>42.333716</td>\n      <td>-83.049884</td>\n    </tr>\n    <tr>\n      <th>44</th>\n      <td>Fort Street Galley</td>\n      <td>Bar</td>\n      <td>42.330242</td>\n      <td>-83.048439</td>\n    </tr>\n    <tr>\n      <th>45</th>\n      <td>Central Kitchen + Bar</td>\n      <td>American Restaurant</td>\n      <td>42.331518</td>\n      <td>-83.045962</td>\n    </tr>\n    <tr>\n      <th>46</th>\n      <td>Sweetwater Tavern</td>\n      <td>American Restaurant</td>\n      <td>42.331861</td>\n      <td>-83.041839</td>\n    </tr>\n    <tr>\n      <th>47</th>\n      <td>Go Sy Thai</td>\n      <td>Thai Restaurant</td>\n      <td>42.332993</td>\n      <td>-83.049187</td>\n    </tr>\n    <tr>\n      <th>48</th>\n      <td>Townhouse Detroit</td>\n      <td>New American Restaurant</td>\n      <td>42.330305</td>\n      <td>-83.045361</td>\n    </tr>\n    <tr>\n      <th>49</th>\n      <td>Detroit Foundation Hotel</td>\n      <td>Hotel</td>\n      <td>42.328332</td>\n      <td>-83.048360</td>\n    </tr>\n    <tr>\n      <th>50</th>\n      <td>Cornerstone Barrel House</td>\n      <td>Whisky Bar</td>\n      <td>42.335009</td>\n      <td>-83.048948</td>\n    </tr>\n    <tr>\n      <th>51</th>\n      <td>Hart Plaza</td>\n      <td>Plaza</td>\n      <td>42.328264</td>\n      <td>-83.044290</td>\n    </tr>\n    <tr>\n      <th>52</th>\n      <td>House Of Pure Vin</td>\n      <td>Lounge</td>\n      <td>42.334555</td>\n      <td>-83.049293</td>\n    </tr>\n    <tr>\n      <th>53</th>\n      <td>Warby Parker</td>\n      <td>Optical Shop</td>\n      <td>42.334714</td>\n      <td>-83.049339</td>\n    </tr>\n    <tr>\n      <th>54</th>\n      <td>Chickpea in the D</td>\n      <td>Sandwich Place</td>\n      <td>42.335073</td>\n      <td>-83.049052</td>\n    </tr>\n    <tr>\n      <th>55</th>\n      <td>Jacoby's German Biergarten</td>\n      <td>German Restaurant</td>\n      <td>42.332132</td>\n      <td>-83.042073</td>\n    </tr>\n    <tr>\n      <th>56</th>\n      <td>American Coney Island</td>\n      <td>Hot Dog Joint</td>\n      <td>42.331656</td>\n      <td>-83.048473</td>\n    </tr>\n    <tr>\n      <th>57</th>\n      <td>Which Wich Superior Sandwiches</td>\n      <td>Restaurant</td>\n      <td>42.330412</td>\n      <td>-83.047079</td>\n    </tr>\n    <tr>\n      <th>58</th>\n      <td>Cafe d'Mongo's</td>\n      <td>Jazz Club</td>\n      <td>42.334306</td>\n      <td>-83.050007</td>\n    </tr>\n    <tr>\n      <th>59</th>\n      <td>St Andrew's Hall</td>\n      <td>Concert Hall</td>\n      <td>42.332376</td>\n      <td>-83.041637</td>\n    </tr>\n    <tr>\n      <th>60</th>\n      <td>Prime + Proper</td>\n      <td>Steakhouse</td>\n      <td>42.332697</td>\n      <td>-83.049151</td>\n    </tr>\n    <tr>\n      <th>61</th>\n      <td>Carnival Fresh Mex</td>\n      <td>Mexican Restaurant</td>\n      <td>42.330757</td>\n      <td>-83.047328</td>\n    </tr>\n    <tr>\n      <th>62</th>\n      <td>Caucus Club</td>\n      <td>American Restaurant</td>\n      <td>42.329436</td>\n      <td>-83.047551</td>\n    </tr>\n    <tr>\n      <th>63</th>\n      <td>Monument to Joe Louis by Robert Graham</td>\n      <td>Outdoor Sculpture</td>\n      <td>42.328660</td>\n      <td>-83.044551</td>\n    </tr>\n    <tr>\n      <th>64</th>\n      <td>La Lanterna</td>\n      <td>Italian Restaurant</td>\n      <td>42.333013</td>\n      <td>-83.049096</td>\n    </tr>\n    <tr>\n      <th>65</th>\n      <td>Buhl Bar</td>\n      <td>Cocktail Bar</td>\n      <td>42.329829</td>\n      <td>-83.046717</td>\n    </tr>\n    <tr>\n      <th>66</th>\n      <td>San Morello</td>\n      <td>Italian Restaurant</td>\n      <td>42.334145</td>\n      <td>-83.048628</td>\n    </tr>\n    <tr>\n      <th>67</th>\n      <td>The Apparatus Room</td>\n      <td>Restaurant</td>\n      <td>42.328113</td>\n      <td>-83.048299</td>\n    </tr>\n    <tr>\n      <th>68</th>\n      <td>Bangkok Crossing</td>\n      <td>Thai Restaurant</td>\n      <td>42.330509</td>\n      <td>-83.046118</td>\n    </tr>\n    <tr>\n      <th>69</th>\n      <td>Ashe Supply Co. Caf\u00e9 &amp; Roasterie</td>\n      <td>Coffee Shop</td>\n      <td>42.336190</td>\n      <td>-83.049217</td>\n    </tr>\n    <tr>\n      <th>70</th>\n      <td>Detroiter Bar/Malaka's</td>\n      <td>Bar</td>\n      <td>42.333148</td>\n      <td>-83.041488</td>\n    </tr>\n    <tr>\n      <th>71</th>\n      <td>Punch Bowl Social</td>\n      <td>Cocktail Bar</td>\n      <td>42.335085</td>\n      <td>-83.046835</td>\n    </tr>\n    <tr>\n      <th>72</th>\n      <td>Detroit Opera House</td>\n      <td>Opera House</td>\n      <td>42.336457</td>\n      <td>-83.048710</td>\n    </tr>\n    <tr>\n      <th>73</th>\n      <td>Go! Smoothie</td>\n      <td>Juice Bar</td>\n      <td>42.334538</td>\n      <td>-83.050389</td>\n    </tr>\n    <tr>\n      <th>74</th>\n      <td>Astoria Pastry Shop</td>\n      <td>Dessert Shop</td>\n      <td>42.335239</td>\n      <td>-83.041820</td>\n    </tr>\n    <tr>\n      <th>75</th>\n      <td>Blue Star Cafe</td>\n      <td>Deli / Bodega</td>\n      <td>42.328993</td>\n      <td>-83.048605</td>\n    </tr>\n    <tr>\n      <th>76</th>\n      <td>Starbucks</td>\n      <td>Coffee Shop</td>\n      <td>42.331337</td>\n      <td>-83.046753</td>\n    </tr>\n    <tr>\n      <th>77</th>\n      <td>The Skip</td>\n      <td>Cocktail Bar</td>\n      <td>42.334700</td>\n      <td>-83.046972</td>\n    </tr>\n    <tr>\n      <th>78</th>\n      <td>Aloft Detroit at The David Whitney</td>\n      <td>Hotel</td>\n      <td>42.335805</td>\n      <td>-83.050508</td>\n    </tr>\n    <tr>\n      <th>79</th>\n      <td>Starbucks</td>\n      <td>Coffee Shop</td>\n      <td>42.331738</td>\n      <td>-83.050878</td>\n    </tr>\n    <tr>\n      <th>80</th>\n      <td>Greenwich Time</td>\n      <td>Dive Bar</td>\n      <td>42.331346</td>\n      <td>-83.043785</td>\n    </tr>\n    <tr>\n      <th>81</th>\n      <td>Detroit Athletic Club (DAC)</td>\n      <td>Gym</td>\n      <td>42.337285</td>\n      <td>-83.047067</td>\n    </tr>\n    <tr>\n      <th>82</th>\n      <td>Citizen Yoga Detroit</td>\n      <td>Yoga Studio</td>\n      <td>42.334088</td>\n      <td>-83.046520</td>\n    </tr>\n    <tr>\n      <th>83</th>\n      <td>Nike Factory Store</td>\n      <td>Sporting Goods Shop</td>\n      <td>42.333649</td>\n      <td>-83.048603</td>\n    </tr>\n    <tr>\n      <th>84</th>\n      <td>Five Guys</td>\n      <td>Burger Joint</td>\n      <td>42.334933</td>\n      <td>-83.042586</td>\n    </tr>\n    <tr>\n      <th>85</th>\n      <td>Detroit RiverWalk</td>\n      <td>Waterfront</td>\n      <td>42.326491</td>\n      <td>-83.044109</td>\n    </tr>\n    <tr>\n      <th>86</th>\n      <td>The Monarch Club</td>\n      <td>New American Restaurant</td>\n      <td>42.335455</td>\n      <td>-83.048829</td>\n    </tr>\n    <tr>\n      <th>87</th>\n      <td>Boll Family YMCA</td>\n      <td>Gym / Fitness Center</td>\n      <td>42.335345</td>\n      <td>-83.047717</td>\n    </tr>\n    <tr>\n      <th>88</th>\n      <td>Cadillac Square Diner</td>\n      <td>Diner</td>\n      <td>42.331562</td>\n      <td>-83.044349</td>\n    </tr>\n    <tr>\n      <th>89</th>\n      <td>PizzaPapalis of Greektown</td>\n      <td>Pizza Place</td>\n      <td>42.335416</td>\n      <td>-83.041616</td>\n    </tr>\n    <tr>\n      <th>90</th>\n      <td>La Casa De La Habana Cigar Bar</td>\n      <td>Lounge</td>\n      <td>42.336714</td>\n      <td>-83.046211</td>\n    </tr>\n    <tr>\n      <th>91</th>\n      <td>Detroit Beer Company</td>\n      <td>Brewery</td>\n      <td>42.336020</td>\n      <td>-83.048843</td>\n    </tr>\n    <tr>\n      <th>92</th>\n      <td>Firebird Tavern</td>\n      <td>New American Restaurant</td>\n      <td>42.334701</td>\n      <td>-83.043345</td>\n    </tr>\n    <tr>\n      <th>93</th>\n      <td>The Old Shillelagh</td>\n      <td>Pub</td>\n      <td>42.334534</td>\n      <td>-83.043926</td>\n    </tr>\n    <tr>\n      <th>94</th>\n      <td>Fishbone's Rhythm Kitchen Cafe</td>\n      <td>Seafood Restaurant</td>\n      <td>42.334376</td>\n      <td>-83.043068</td>\n    </tr>\n    <tr>\n      <th>95</th>\n      <td>Downtown Louie's</td>\n      <td>Lounge</td>\n      <td>42.334668</td>\n      <td>-83.050095</td>\n    </tr>\n    <tr>\n      <th>96</th>\n      <td>Basement Burger Bar</td>\n      <td>Burger Joint</td>\n      <td>42.335658</td>\n      <td>-83.044508</td>\n    </tr>\n    <tr>\n      <th>97</th>\n      <td>Candy Bar</td>\n      <td>Bar</td>\n      <td>42.335841</td>\n      <td>-83.048404</td>\n    </tr>\n    <tr>\n      <th>98</th>\n      <td>Pegasus Taverna</td>\n      <td>Greek Restaurant</td>\n      <td>42.335227</td>\n      <td>-83.041650</td>\n    </tr>\n    <tr>\n      <th>99</th>\n      <td>Detroit vs Everybody</td>\n      <td>Boutique</td>\n      <td>42.334552</td>\n      <td>-83.043044</td>\n    </tr>\n  </tbody>\n</table>\n</div>"
                    },
                    "metadata": {}
                }
            ]
        },
        {
            "metadata": {},
            "cell_type": "markdown",
            "source": "## Narrow down to resaurants"
        },
        {
            "metadata": {},
            "cell_type": "code",
            "source": "restaurants = nearby_venues[nearby_venues['categories'].str.contains(\"Restaurant\")]\nrestaurants",
            "execution_count": 7,
            "outputs": [
                {
                    "output_type": "execute_result",
                    "execution_count": 7,
                    "data": {
                        "text/plain": "                              name               categories        lat  \\\n3                       Dime Store      American Restaurant  42.331039   \n14                            Parc      American Restaurant  42.331564   \n17                     The Standby  New American Restaurant  42.334439   \n20                     Orchid Thai          Thai Restaurant  42.333579   \n22         Vicente's Cuban Cuisine         Cuban Restaurant  42.334436   \n27              Maru Sushi & Grill      Japanese Restaurant  42.330360   \n42                         Freshii               Restaurant  42.331569   \n45           Central Kitchen + Bar      American Restaurant  42.331518   \n46               Sweetwater Tavern      American Restaurant  42.331861   \n47                      Go Sy Thai          Thai Restaurant  42.332993   \n48               Townhouse Detroit  New American Restaurant  42.330305   \n55      Jacoby's German Biergarten        German Restaurant  42.332132   \n57  Which Wich Superior Sandwiches               Restaurant  42.330412   \n61              Carnival Fresh Mex       Mexican Restaurant  42.330757   \n62                     Caucus Club      American Restaurant  42.329436   \n64                     La Lanterna       Italian Restaurant  42.333013   \n66                     San Morello       Italian Restaurant  42.334145   \n67              The Apparatus Room               Restaurant  42.328113   \n68                Bangkok Crossing          Thai Restaurant  42.330509   \n86                The Monarch Club  New American Restaurant  42.335455   \n92                 Firebird Tavern  New American Restaurant  42.334701   \n94  Fishbone's Rhythm Kitchen Cafe       Seafood Restaurant  42.334376   \n98                 Pegasus Taverna         Greek Restaurant  42.335227   \n\n          lng  \n3  -83.047734  \n14 -83.046700  \n17 -83.046009  \n20 -83.045220  \n22 -83.047193  \n27 -83.048269  \n42 -83.047713  \n45 -83.045962  \n46 -83.041839  \n47 -83.049187  \n48 -83.045361  \n55 -83.042073  \n57 -83.047079  \n61 -83.047328  \n62 -83.047551  \n64 -83.049096  \n66 -83.048628  \n67 -83.048299  \n68 -83.046118  \n86 -83.048829  \n92 -83.043345  \n94 -83.043068  \n98 -83.041650  ",
                        "text/html": "<div>\n<style scoped>\n    .dataframe tbody tr th:only-of-type {\n        vertical-align: middle;\n    }\n\n    .dataframe tbody tr th {\n        vertical-align: top;\n    }\n\n    .dataframe thead th {\n        text-align: right;\n    }\n</style>\n<table border=\"1\" class=\"dataframe\">\n  <thead>\n    <tr style=\"text-align: right;\">\n      <th></th>\n      <th>name</th>\n      <th>categories</th>\n      <th>lat</th>\n      <th>lng</th>\n    </tr>\n  </thead>\n  <tbody>\n    <tr>\n      <th>3</th>\n      <td>Dime Store</td>\n      <td>American Restaurant</td>\n      <td>42.331039</td>\n      <td>-83.047734</td>\n    </tr>\n    <tr>\n      <th>14</th>\n      <td>Parc</td>\n      <td>American Restaurant</td>\n      <td>42.331564</td>\n      <td>-83.046700</td>\n    </tr>\n    <tr>\n      <th>17</th>\n      <td>The Standby</td>\n      <td>New American Restaurant</td>\n      <td>42.334439</td>\n      <td>-83.046009</td>\n    </tr>\n    <tr>\n      <th>20</th>\n      <td>Orchid Thai</td>\n      <td>Thai Restaurant</td>\n      <td>42.333579</td>\n      <td>-83.045220</td>\n    </tr>\n    <tr>\n      <th>22</th>\n      <td>Vicente's Cuban Cuisine</td>\n      <td>Cuban Restaurant</td>\n      <td>42.334436</td>\n      <td>-83.047193</td>\n    </tr>\n    <tr>\n      <th>27</th>\n      <td>Maru Sushi &amp; Grill</td>\n      <td>Japanese Restaurant</td>\n      <td>42.330360</td>\n      <td>-83.048269</td>\n    </tr>\n    <tr>\n      <th>42</th>\n      <td>Freshii</td>\n      <td>Restaurant</td>\n      <td>42.331569</td>\n      <td>-83.047713</td>\n    </tr>\n    <tr>\n      <th>45</th>\n      <td>Central Kitchen + Bar</td>\n      <td>American Restaurant</td>\n      <td>42.331518</td>\n      <td>-83.045962</td>\n    </tr>\n    <tr>\n      <th>46</th>\n      <td>Sweetwater Tavern</td>\n      <td>American Restaurant</td>\n      <td>42.331861</td>\n      <td>-83.041839</td>\n    </tr>\n    <tr>\n      <th>47</th>\n      <td>Go Sy Thai</td>\n      <td>Thai Restaurant</td>\n      <td>42.332993</td>\n      <td>-83.049187</td>\n    </tr>\n    <tr>\n      <th>48</th>\n      <td>Townhouse Detroit</td>\n      <td>New American Restaurant</td>\n      <td>42.330305</td>\n      <td>-83.045361</td>\n    </tr>\n    <tr>\n      <th>55</th>\n      <td>Jacoby's German Biergarten</td>\n      <td>German Restaurant</td>\n      <td>42.332132</td>\n      <td>-83.042073</td>\n    </tr>\n    <tr>\n      <th>57</th>\n      <td>Which Wich Superior Sandwiches</td>\n      <td>Restaurant</td>\n      <td>42.330412</td>\n      <td>-83.047079</td>\n    </tr>\n    <tr>\n      <th>61</th>\n      <td>Carnival Fresh Mex</td>\n      <td>Mexican Restaurant</td>\n      <td>42.330757</td>\n      <td>-83.047328</td>\n    </tr>\n    <tr>\n      <th>62</th>\n      <td>Caucus Club</td>\n      <td>American Restaurant</td>\n      <td>42.329436</td>\n      <td>-83.047551</td>\n    </tr>\n    <tr>\n      <th>64</th>\n      <td>La Lanterna</td>\n      <td>Italian Restaurant</td>\n      <td>42.333013</td>\n      <td>-83.049096</td>\n    </tr>\n    <tr>\n      <th>66</th>\n      <td>San Morello</td>\n      <td>Italian Restaurant</td>\n      <td>42.334145</td>\n      <td>-83.048628</td>\n    </tr>\n    <tr>\n      <th>67</th>\n      <td>The Apparatus Room</td>\n      <td>Restaurant</td>\n      <td>42.328113</td>\n      <td>-83.048299</td>\n    </tr>\n    <tr>\n      <th>68</th>\n      <td>Bangkok Crossing</td>\n      <td>Thai Restaurant</td>\n      <td>42.330509</td>\n      <td>-83.046118</td>\n    </tr>\n    <tr>\n      <th>86</th>\n      <td>The Monarch Club</td>\n      <td>New American Restaurant</td>\n      <td>42.335455</td>\n      <td>-83.048829</td>\n    </tr>\n    <tr>\n      <th>92</th>\n      <td>Firebird Tavern</td>\n      <td>New American Restaurant</td>\n      <td>42.334701</td>\n      <td>-83.043345</td>\n    </tr>\n    <tr>\n      <th>94</th>\n      <td>Fishbone's Rhythm Kitchen Cafe</td>\n      <td>Seafood Restaurant</td>\n      <td>42.334376</td>\n      <td>-83.043068</td>\n    </tr>\n    <tr>\n      <th>98</th>\n      <td>Pegasus Taverna</td>\n      <td>Greek Restaurant</td>\n      <td>42.335227</td>\n      <td>-83.041650</td>\n    </tr>\n  </tbody>\n</table>\n</div>"
                    },
                    "metadata": {}
                }
            ]
        },
        {
            "metadata": {},
            "cell_type": "code",
            "source": "restaurants.shape",
            "execution_count": 8,
            "outputs": [
                {
                    "output_type": "execute_result",
                    "execution_count": 8,
                    "data": {
                        "text/plain": "(23, 4)"
                    },
                    "metadata": {}
                }
            ]
        },
        {
            "metadata": {},
            "cell_type": "markdown",
            "source": "## Let's see how many are Greek Restaurants."
        },
        {
            "metadata": {},
            "cell_type": "code",
            "source": "greek_restaurants = nearby_venues[nearby_venues['categories'].str.contains(\"Greek\")]\ngreek_restaurants",
            "execution_count": 9,
            "outputs": [
                {
                    "output_type": "execute_result",
                    "execution_count": 9,
                    "data": {
                        "text/plain": "               name        categories        lat       lng\n98  Pegasus Taverna  Greek Restaurant  42.335227 -83.04165",
                        "text/html": "<div>\n<style scoped>\n    .dataframe tbody tr th:only-of-type {\n        vertical-align: middle;\n    }\n\n    .dataframe tbody tr th {\n        vertical-align: top;\n    }\n\n    .dataframe thead th {\n        text-align: right;\n    }\n</style>\n<table border=\"1\" class=\"dataframe\">\n  <thead>\n    <tr style=\"text-align: right;\">\n      <th></th>\n      <th>name</th>\n      <th>categories</th>\n      <th>lat</th>\n      <th>lng</th>\n    </tr>\n  </thead>\n  <tbody>\n    <tr>\n      <th>98</th>\n      <td>Pegasus Taverna</td>\n      <td>Greek Restaurant</td>\n      <td>42.335227</td>\n      <td>-83.04165</td>\n    </tr>\n  </tbody>\n</table>\n</div>"
                    },
                    "metadata": {}
                }
            ]
        },
        {
            "metadata": {},
            "cell_type": "markdown",
            "source": "## So lets see where it's at on the map of Detroit in relation to Campus Martius."
        },
        {
            "metadata": {},
            "cell_type": "code",
            "source": "locations = greek_restaurants[['lat', 'lng']]\nlocationlist = locations.values.tolist()\nlen(locationlist)",
            "execution_count": 16,
            "outputs": [
                {
                    "output_type": "execute_result",
                    "execution_count": 16,
                    "data": {
                        "text/plain": "1"
                    },
                    "metadata": {}
                }
            ]
        },
        {
            "metadata": {},
            "cell_type": "code",
            "source": "Detroit = folium.Map(location=[Campus_lat, Campus_lon], zoom_start=15)\n\n# define our radius the restaurant should be in \nfolium.Circle([Campus_lat, Campus_lon],\n              radius=radius,\n              color='black'\n             ).add_to(Detroit)\n\n# make a large circle for Campus Martius in green\nfolium.CircleMarker(\n        [Campus_lat, Campus_lon],\n        radius=40,\n        popup='Campus Martius',\n        color='green',\n        fill=True,\n        fill_color='#228B22',\n        fill_opacity=0.7,\n        parse_html=False).add_to(Detroit)\n\n# make a circle for Fishbone's Cafe in blue\nfolium.CircleMarker(\n        [42.334376, -83.043068],\n        radius=10,\n        popup='Fishbone Cafe',\n        color='blue',\n        fill=True,\n        fill_color='#3186cc',\n        fill_opacity=0.7,\n        parse_html=False).add_to(Detroit) \n\nDetroit",
            "execution_count": 62,
            "outputs": [
                {
                    "output_type": "execute_result",
                    "execution_count": 62,
                    "data": {
                        "text/plain": "<folium.folium.Map at 0x7f99fc028390>",
                        "text/html": "<div style=\"width:100%;\"><div style=\"position:relative;width:100%;height:0;padding-bottom:60%;\"><iframe src=\"about:blank\" style=\"position:absolute;width:100%;height:100%;left:0;top:0;border:none !important;\" data-html=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 onload=\"this.contentDocument.open();this.contentDocument.write(atob(this.getAttribute('data-html')));this.contentDocument.close();\" allowfullscreen webkitallowfullscreen mozallowfullscreen></iframe></div></div>"
                    },
                    "metadata": {}
                }
            ]
        },
        {
            "metadata": {},
            "cell_type": "code",
            "source": "from bs4 import BeautifulSoup\n\nfloors_url = 'https://42floors.com/us/mi/detroit/downtown-detroit?regions%5B%5D=90816&within=0106000020e610000001000000010300000001000000090000002fd8209e22c354c03cbccc48af2b45405fd7209ea9c354c0f894cd26c62b454038da20c6ccc354c05c5f329a682b45406ad62086c1c354c03cfc203bdb2a454051d82066f1c254c02001f740a72a45405bda20cec5c254c02c98955d622b4540d1d920ce1fc354c03cbccc48af2b45402fd8209e22c354c03cbccc48af2b45402fd8209e22c354c03cbccc48af2b4540'\n    \nr = requests.get(floors_url) \n  \nsoup = BeautifulSoup(r.content, 'lxml') \n#print(soup.prettify())",
            "execution_count": 17,
            "outputs": []
        },
        {
            "metadata": {},
            "cell_type": "code",
            "source": "table = soup.findAll('span', attrs={'class':'title block text-overflow text-blue'})\ntable",
            "execution_count": 18,
            "outputs": [
                {
                    "output_type": "execute_result",
                    "execution_count": 18,
                    "data": {
                        "text/plain": "[<span class=\"title block text-overflow text-blue\">\n                 1442 Brush St\n                 <span class=\"text-light\">\n                     -\n                         Unit 401 (Floor 4)\n                 </span>\n </span>, <span class=\"title block text-overflow text-blue\">\n                 415 Clifford St\n                 <span class=\"text-light\">\n                     -\n                         Space\n                 </span>\n </span>, <span class=\"title block text-overflow text-blue\">\n                 1452 Brush St\n                 <span class=\"text-light\">\n                     -\n                         3 Spaces\n                 </span>\n </span>, <span class=\"title block text-overflow text-blue\">\n                 1442 Brush St\n                 <span class=\"text-light\">\n                     -\n                         Floor 1\n                 </span>\n </span>, <span class=\"title block text-overflow text-blue\">\n                 2310 Park Ave\n                 <span class=\"text-light\">\n                     -\n                         Floor 5\n                 </span>\n </span>]"
                    },
                    "metadata": {}
                }
            ]
        },
        {
            "metadata": {},
            "cell_type": "code",
            "source": "addresses = []\n\nfor address in range(0, len(table)):\n    addresses.append(table[address].text)\n    \naddresses",
            "execution_count": 19,
            "outputs": [
                {
                    "output_type": "execute_result",
                    "execution_count": 19,
                    "data": {
                        "text/plain": "['\\n                1442 Brush St\\n                \\n                    -\\n                        Unit 401 (Floor 4)\\n                \\n',\n '\\n                415 Clifford St\\n                \\n                    -\\n                        Space\\n                \\n',\n '\\n                1452 Brush St\\n                \\n                    -\\n                        3 Spaces\\n                \\n',\n '\\n                1442 Brush St\\n                \\n                    -\\n                        Floor 1\\n                \\n',\n '\\n                2310 Park Ave\\n                \\n                    -\\n                        Floor 5\\n                \\n']"
                    },
                    "metadata": {}
                }
            ]
        },
        {
            "metadata": {},
            "cell_type": "markdown",
            "source": "## Let's clean up each array element that contains and address and make it into a usable value."
        },
        {
            "metadata": {},
            "cell_type": "code",
            "source": "for _ in range(0,len(addresses)):\n    addresses[_] = \" \".join(addresses[_].split())\n               \naddresses",
            "execution_count": 20,
            "outputs": [
                {
                    "output_type": "execute_result",
                    "execution_count": 20,
                    "data": {
                        "text/plain": "['1442 Brush St - Unit 401 (Floor 4)',\n '415 Clifford St - Space',\n '1452 Brush St - 3 Spaces',\n '1442 Brush St - Floor 1',\n '2310 Park Ave - Floor 5']"
                    },
                    "metadata": {}
                }
            ]
        },
        {
            "metadata": {},
            "cell_type": "code",
            "source": "for _ in range(0,len(addresses)):\n    addresses[_] = addresses[_].split('-', 1)[0]\n    addresses[_] = addresses[_][:-1]\n    \naddresses",
            "execution_count": 21,
            "outputs": [
                {
                    "output_type": "execute_result",
                    "execution_count": 21,
                    "data": {
                        "text/plain": "['1442 Brush St',\n '415 Clifford St',\n '1452 Brush St',\n '1442 Brush St',\n '2310 Park Ave']"
                    },
                    "metadata": {}
                }
            ]
        },
        {
            "metadata": {},
            "cell_type": "markdown",
            "source": "## Let's do analysis for the type of space each proprty could be used for now. "
        },
        {
            "metadata": {},
            "cell_type": "code",
            "source": "table = soup.findAll('span', attrs={'class':'width-90-px-md col-4-sm col-center col-gutter-none-sm text-smaller text-subtle col-shrink-0'})\ntable",
            "execution_count": 22,
            "outputs": [
                {
                    "output_type": "execute_result",
                    "execution_count": 22,
                    "data": {
                        "text/plain": "[<span class=\"width-90-px-md col-4-sm col-center col-gutter-none-sm text-smaller text-subtle col-shrink-0\">\n             Office\n         </span>,\n <span class=\"width-90-px-md col-4-sm col-center col-gutter-none-sm text-smaller text-subtle col-shrink-0\">\n             Office<br/>Retail\n         </span>,\n <span class=\"width-90-px-md col-4-sm col-center col-gutter-none-sm text-smaller text-subtle col-shrink-0\">\n             Retail<br/>Restaurant<br/>Office\n         </span>,\n <span class=\"width-90-px-md col-4-sm col-center col-gutter-none-sm text-smaller text-subtle col-shrink-0\">\n             Office<br/>Retail\n         </span>,\n <span class=\"width-90-px-md col-4-sm col-center col-gutter-none-sm text-smaller text-subtle col-shrink-0\">\n             Office\n         </span>]"
                    },
                    "metadata": {}
                }
            ]
        },
        {
            "metadata": {},
            "cell_type": "code",
            "source": "building_types = []\n\nfor types in range(0, len(table)):\n    building_types.append(table[types].text)\n    building_types[types] = \" \".join(building_types[types].split())\n    \nbuilding_types",
            "execution_count": 23,
            "outputs": [
                {
                    "output_type": "execute_result",
                    "execution_count": 23,
                    "data": {
                        "text/plain": "['Office', 'OfficeRetail', 'RetailRestaurantOffice', 'OfficeRetail', 'Office']"
                    },
                    "metadata": {}
                }
            ]
        },
        {
            "metadata": {},
            "cell_type": "markdown",
            "source": "## I'll do a more efficient cleanup of the data"
        },
        {
            "metadata": {},
            "cell_type": "code",
            "source": "detroit_table = pd.DataFrame(list(zip(addresses, building_types)), \n               columns =['Address', 'Building Type'])\n\ndetroit_table",
            "execution_count": 30,
            "outputs": [
                {
                    "output_type": "execute_result",
                    "execution_count": 30,
                    "data": {
                        "text/plain": "           Address           Building Type\n0    1442 Brush St                  Office\n1  415 Clifford St            OfficeRetail\n2    1452 Brush St  RetailRestaurantOffice\n3    1442 Brush St            OfficeRetail\n4    2310 Park Ave                  Office",
                        "text/html": "<div>\n<style scoped>\n    .dataframe tbody tr th:only-of-type {\n        vertical-align: middle;\n    }\n\n    .dataframe tbody tr th {\n        vertical-align: top;\n    }\n\n    .dataframe thead th {\n        text-align: right;\n    }\n</style>\n<table border=\"1\" class=\"dataframe\">\n  <thead>\n    <tr style=\"text-align: right;\">\n      <th></th>\n      <th>Address</th>\n      <th>Building Type</th>\n    </tr>\n  </thead>\n  <tbody>\n    <tr>\n      <th>0</th>\n      <td>1442 Brush St</td>\n      <td>Office</td>\n    </tr>\n    <tr>\n      <th>1</th>\n      <td>415 Clifford St</td>\n      <td>OfficeRetail</td>\n    </tr>\n    <tr>\n      <th>2</th>\n      <td>1452 Brush St</td>\n      <td>RetailRestaurantOffice</td>\n    </tr>\n    <tr>\n      <th>3</th>\n      <td>1442 Brush St</td>\n      <td>OfficeRetail</td>\n    </tr>\n    <tr>\n      <th>4</th>\n      <td>2310 Park Ave</td>\n      <td>Office</td>\n    </tr>\n  </tbody>\n</table>\n</div>"
                    },
                    "metadata": {}
                }
            ]
        },
        {
            "metadata": {},
            "cell_type": "markdown",
            "source": "## So let's actually plot out points on a map so I can figure out which is closest to Campus Martius and is a good fit for a restaurant."
        },
        {
            "metadata": {},
            "cell_type": "code",
            "source": "building_lats = []\nbuilding_lons = []\n\nzipcode = '48226'\ncity = 'Detroit, MI'\n\ngeolocator = Nominatim(user_agent=\"detroit_app\")\n\nfor _ in range(0,len(addresses)-1):\n    place = addresses[_] + ' ' + city + ' ' + zipcode\n    location = geolocator.geocode(place)\n    building_lats.append(location.latitude)\n    building_lons.append(location.longitude)\n    print(location.latitude, location.longitude)",
            "execution_count": 53,
            "outputs": [
                {
                    "output_type": "stream",
                    "text": "42.33634192741168 -83.044893667659\n42.334701571428575 -83.05227371428572\n42.33643104751674 -83.04495319129133\n42.33634192741168 -83.044893667659\n",
                    "name": "stdout"
                }
            ]
        },
        {
            "metadata": {},
            "cell_type": "code",
            "source": "detroit_table['Latitude'] = building_lats\ndetroit_table['Longitude'] = building_lons\n\ndetroit_table",
            "execution_count": 54,
            "outputs": [
                {
                    "output_type": "execute_result",
                    "execution_count": 54,
                    "data": {
                        "text/plain": "  Address Building Type   Latitude  Longitude\n0     NaN           NaN  42.336342 -83.044894\n1     NaN           NaN  42.334702 -83.052274\n2     NaN           NaN  42.336431 -83.044953\n3     NaN           NaN  42.336342 -83.044894",
                        "text/html": "<div>\n<style scoped>\n    .dataframe tbody tr th:only-of-type {\n        vertical-align: middle;\n    }\n\n    .dataframe tbody tr th {\n        vertical-align: top;\n    }\n\n    .dataframe thead th {\n        text-align: right;\n    }\n</style>\n<table border=\"1\" class=\"dataframe\">\n  <thead>\n    <tr style=\"text-align: right;\">\n      <th></th>\n      <th>Address</th>\n      <th>Building Type</th>\n      <th>Latitude</th>\n      <th>Longitude</th>\n    </tr>\n  </thead>\n  <tbody>\n    <tr>\n      <th>0</th>\n      <td>NaN</td>\n      <td>NaN</td>\n      <td>42.336342</td>\n      <td>-83.044894</td>\n    </tr>\n    <tr>\n      <th>1</th>\n      <td>NaN</td>\n      <td>NaN</td>\n      <td>42.334702</td>\n      <td>-83.052274</td>\n    </tr>\n    <tr>\n      <th>2</th>\n      <td>NaN</td>\n      <td>NaN</td>\n      <td>42.336431</td>\n      <td>-83.044953</td>\n    </tr>\n    <tr>\n      <th>3</th>\n      <td>NaN</td>\n      <td>NaN</td>\n      <td>42.336342</td>\n      <td>-83.044894</td>\n    </tr>\n  </tbody>\n</table>\n</div>"
                    },
                    "metadata": {}
                }
            ]
        },
        {
            "metadata": {},
            "cell_type": "markdown",
            "source": "## Let's plot our building locations now and append them to the map of Detroit we already have."
        },
        {
            "metadata": {},
            "cell_type": "code",
            "source": "for _ in range(0,len(addresses)-1):\n    folium.Marker([building_lats[_], building_lons[_]], popup=addresses[_]).add_to(Detroit)\n    \nDetroit",
            "execution_count": 63,
            "outputs": [
                {
                    "output_type": "execute_result",
                    "execution_count": 63,
                    "data": {
                        "text/plain": "<folium.folium.Map at 0x7f99fc028390>",
                        "text/html": "<div style=\"width:100%;\"><div style=\"position:relative;width:100%;height:0;padding-bottom:60%;\"><iframe src=\"about:blank\" style=\"position:absolute;width:100%;height:100%;left:0;top:0;border:none !important;\" data-html=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 onload=\"this.contentDocument.open();this.contentDocument.write(atob(this.getAttribute('data-html')));this.contentDocument.close();\" allowfullscreen webkitallowfullscreen mozallowfullscreen></iframe></div></div>"
                    },
                    "metadata": {}
                }
            ]
        },
        {
            "metadata": {},
            "cell_type": "markdown",
            "source": "### Because 1452 Brush St, Detroit, MI, 48226 has been identified as a restaurant space and is within 800 meters of Campus Martius, this seems to be the best location for the new business of our client. This is fairly close to a high foot traffic area and will be ideal for a new seafood restaurant because there is only one rival in the neighbourhood to keep up with."
        },
        {
            "metadata": {},
            "cell_type": "markdown",
            "source": "## Conclusions"
        },
        {
            "metadata": {},
            "cell_type": "markdown",
            "source": "As a whole, this project was a great learning experience on how to scrape data and use it efficiently to solve a business problem for business owners. In the future I would love to revisit this problem and use more advanced techniques to address it with relative ease. I would strongly recommend that any and all aspiring data scientists practice a problem like this to improve their own abilities."
        }
    ],
    "metadata": {
        "kernelspec": {
            "name": "python3",
            "display_name": "Python 3.6",
            "language": "python"
        },
        "language_info": {
            "name": "python",
            "version": "3.6.9",
            "mimetype": "text/x-python",
            "codemirror_mode": {
                "name": "ipython",
                "version": 3
            },
            "pygments_lexer": "ipython3",
            "nbconvert_exporter": "python",
            "file_extension": ".py"
        }
    },
    "nbformat": 4,
    "nbformat_minor": 1
}